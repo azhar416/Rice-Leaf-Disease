{
 "cells": [
  {
   "cell_type": "code",
   "execution_count": 1,
   "metadata": {},
   "outputs": [
    {
     "name": "stdout",
     "output_type": "stream",
     "text": [
      "Num GPUs Available: 1\n"
     ]
    }
   ],
   "source": [
    "import tensorflow as tf\n",
    "print(\"Num GPUs Available:\", len(tf.config.experimental.list_physical_devices('GPU')))"
   ]
  },
  {
   "cell_type": "code",
   "execution_count": 2,
   "metadata": {},
   "outputs": [
    {
     "name": "stdout",
     "output_type": "stream",
     "text": [
      "Tensorflow version = 2.10.1\n",
      "[PhysicalDevice(name='/physical_device:GPU:0', device_type='GPU')]\n"
     ]
    }
   ],
   "source": [
    "print(f'Tensorflow version = {tf.__version__}')\n",
    "print(f'{tf.config.list_physical_devices(\"GPU\")}')"
   ]
  },
  {
   "cell_type": "code",
   "execution_count": 30,
   "metadata": {},
   "outputs": [],
   "source": [
    "from keras import layers\n",
    "from keras.layers import Input, Lambda, Dense, Flatten, BatchNormalization\n",
    "from keras.models import Model\n",
    "from keras.applications.resnet import ResNet50\n",
    "from keras.preprocessing import image\n",
    "from keras.preprocessing.image import ImageDataGenerator\n",
    "from keras.models import Sequential\n",
    "from keras.callbacks import ModelCheckpoint, EarlyStopping\n",
    "from keras.optimizers import Adam\n",
    "import matplotlib.pyplot as plt\n",
    "from sklearn.metrics import confusion_matrix, classification_report, f1_score\n",
    "import os\n",
    "import numpy as np\n",
    "from glob import glob"
   ]
  },
  {
   "cell_type": "code",
   "execution_count": 4,
   "metadata": {},
   "outputs": [],
   "source": [
    "IMG_SIZE = (300, 300, 3)\n",
    "H = 300\n",
    "W = 300"
   ]
  },
  {
   "cell_type": "code",
   "execution_count": 12,
   "metadata": {},
   "outputs": [],
   "source": [
    "model_dir = '..\\..\\Model'\n",
    "dataset_dir = '..\\..\\Dataset_Split'\n",
    "train_dir = os.path.join(dataset_dir, 'train')\n",
    "test_dir = os.path.join(dataset_dir, 'test')\n",
    "val_dir = os.path.join(dataset_dir, 'val')"
   ]
  },
  {
   "cell_type": "code",
   "execution_count": 7,
   "metadata": {},
   "outputs": [
    {
     "name": "stdout",
     "output_type": "stream",
     "text": [
      "Found 4150 images belonging to 4 classes.\n"
     ]
    }
   ],
   "source": [
    "train_datagen = ImageDataGenerator()\n",
    "\n",
    "train_generator = train_datagen.flow_from_directory(\n",
    "        train_dir,\n",
    "        target_size=(H, W),\n",
    "        batch_size=64,\n",
    "        class_mode='categorical',\n",
    "        seed=42,\n",
    "        )"
   ]
  },
  {
   "cell_type": "code",
   "execution_count": 16,
   "metadata": {},
   "outputs": [
    {
     "name": "stdout",
     "output_type": "stream",
     "text": [
      "Found 889 images belonging to 4 classes.\n"
     ]
    }
   ],
   "source": [
    "val_datagen = ImageDataGenerator()\n",
    "\n",
    "val_generator = val_datagen.flow_from_directory(\n",
    "        val_dir,\n",
    "        target_size=(H, W),\n",
    "        batch_size=64,\n",
    "        class_mode='categorical',\n",
    "        shuffle=False,\n",
    "        # seed=42,\n",
    "        )"
   ]
  },
  {
   "cell_type": "code",
   "execution_count": 17,
   "metadata": {},
   "outputs": [],
   "source": [
    "resnet_model = Sequential()\n",
    "\n",
    "pretrained_model= ResNet50(include_top=False,\n",
    "                   input_shape=IMG_SIZE,\n",
    "                   pooling='avg',\n",
    "                   classes=4,\n",
    "                   weights='imagenet')\n",
    "\n",
    "for layer in pretrained_model.layers:\n",
    "        layer.trainable=False\n",
    "\n",
    "resnet_model.add(pretrained_model)\n",
    "resnet_model.add(Flatten())\n",
    "resnet_model.add(Dense(128, activation='relu'))\n",
    "resnet_model.add(BatchNormalization())\n",
    "resnet_model.add(Dense(4, activation='softmax'))"
   ]
  },
  {
   "cell_type": "code",
   "execution_count": 9,
   "metadata": {},
   "outputs": [
    {
     "name": "stdout",
     "output_type": "stream",
     "text": [
      "Model: \"sequential\"\n",
      "_________________________________________________________________\n",
      " Layer (type)                Output Shape              Param #   \n",
      "=================================================================\n",
      " resnet50 (Functional)       (None, 2048)              23587712  \n",
      "                                                                 \n",
      " flatten (Flatten)           (None, 2048)              0         \n",
      "                                                                 \n",
      " dense (Dense)               (None, 128)               262272    \n",
      "                                                                 \n",
      " batch_normalization (BatchN  (None, 128)              512       \n",
      " ormalization)                                                   \n",
      "                                                                 \n",
      " dense_1 (Dense)             (None, 4)                 516       \n",
      "                                                                 \n",
      "=================================================================\n",
      "Total params: 23,851,012\n",
      "Trainable params: 263,044\n",
      "Non-trainable params: 23,587,968\n",
      "_________________________________________________________________\n"
     ]
    }
   ],
   "source": [
    "resnet_model.summary()"
   ]
  },
  {
   "cell_type": "code",
   "execution_count": 18,
   "metadata": {},
   "outputs": [],
   "source": [
    "early_stopping = EarlyStopping(monitor='val_loss', mode='min', patience=5)\n",
    "model_save = ModelCheckpoint(filepath=os.path.join(model_dir, 'Model.hdf5'), save_best_only= True, verbose=0)"
   ]
  },
  {
   "cell_type": "code",
   "execution_count": 19,
   "metadata": {},
   "outputs": [],
   "source": [
    "resnet_model.compile(optimizer=Adam(learning_rate=0.001), \n",
    "                     loss='categorical_crossentropy', metrics=['accuracy'])"
   ]
  },
  {
   "cell_type": "code",
   "execution_count": 20,
   "metadata": {},
   "outputs": [
    {
     "name": "stdout",
     "output_type": "stream",
     "text": [
      "Epoch 1/15\n",
      "65/65 [==============================] - 73s 1s/step - loss: 0.2017 - accuracy: 0.9330 - val_loss: 0.0578 - val_accuracy: 0.9921\n",
      "Epoch 2/15\n",
      "65/65 [==============================] - 71s 1s/step - loss: 0.0199 - accuracy: 0.9978 - val_loss: 0.0345 - val_accuracy: 0.9989\n",
      "Epoch 3/15\n",
      "65/65 [==============================] - 76s 1s/step - loss: 0.0082 - accuracy: 0.9993 - val_loss: 0.0111 - val_accuracy: 1.0000\n",
      "Epoch 4/15\n",
      "65/65 [==============================] - 79s 1s/step - loss: 0.0043 - accuracy: 1.0000 - val_loss: 0.0056 - val_accuracy: 1.0000\n",
      "Epoch 5/15\n",
      "65/65 [==============================] - 81s 1s/step - loss: 0.0021 - accuracy: 1.0000 - val_loss: 0.0036 - val_accuracy: 1.0000\n",
      "Epoch 6/15\n",
      "65/65 [==============================] - 81s 1s/step - loss: 0.0017 - accuracy: 1.0000 - val_loss: 0.0022 - val_accuracy: 1.0000\n",
      "Epoch 7/15\n",
      "65/65 [==============================] - 82s 1s/step - loss: 0.0013 - accuracy: 1.0000 - val_loss: 0.0017 - val_accuracy: 1.0000\n",
      "Epoch 8/15\n",
      "65/65 [==============================] - 82s 1s/step - loss: 8.8114e-04 - accuracy: 1.0000 - val_loss: 0.0015 - val_accuracy: 1.0000\n",
      "Epoch 9/15\n",
      "65/65 [==============================] - 83s 1s/step - loss: 7.8820e-04 - accuracy: 1.0000 - val_loss: 0.0012 - val_accuracy: 1.0000\n",
      "Epoch 10/15\n",
      "65/65 [==============================] - 83s 1s/step - loss: 5.5403e-04 - accuracy: 1.0000 - val_loss: 0.0010 - val_accuracy: 1.0000\n",
      "Epoch 11/15\n",
      "65/65 [==============================] - 84s 1s/step - loss: 4.9421e-04 - accuracy: 1.0000 - val_loss: 8.0121e-04 - val_accuracy: 1.0000\n",
      "Epoch 12/15\n",
      "65/65 [==============================] - 85s 1s/step - loss: 4.1127e-04 - accuracy: 1.0000 - val_loss: 6.8782e-04 - val_accuracy: 1.0000\n",
      "Epoch 13/15\n",
      "65/65 [==============================] - 83s 1s/step - loss: 4.2386e-04 - accuracy: 1.0000 - val_loss: 7.5470e-04 - val_accuracy: 1.0000\n",
      "Epoch 14/15\n",
      "65/65 [==============================] - 83s 1s/step - loss: 4.1534e-04 - accuracy: 1.0000 - val_loss: 6.7520e-04 - val_accuracy: 1.0000\n",
      "Epoch 15/15\n",
      "65/65 [==============================] - 84s 1s/step - loss: 2.5771e-04 - accuracy: 1.0000 - val_loss: 5.7351e-04 - val_accuracy: 1.0000\n",
      "CPU times: total: 20min 3s\n",
      "Wall time: 20min 9s\n"
     ]
    }
   ],
   "source": [
    "%%time\n",
    "\n",
    "epochs = 15\n",
    "batch_size = 32\n",
    "\n",
    "history = resnet_model.fit(\n",
    "  train_generator,\n",
    "  validation_data=val_generator,\n",
    "  batch_size=batch_size,\n",
    "  epochs=epochs,\n",
    "  verbose=1,\n",
    "  callbacks=[early_stopping, model_save],\n",
    ")"
   ]
  },
  {
   "cell_type": "code",
   "execution_count": 21,
   "metadata": {},
   "outputs": [
    {
     "data": {
      "image/png": "[encoded data removed]",
      "text/plain": [
       "<Figure size 640x480 with 1 Axes>"
      ]
     },
     "metadata": {},
     "output_type": "display_data"
    },
    {
     "data": {
      "text/plain": [
       "<Figure size 640x480 with 0 Axes>"
      ]
     },
     "metadata": {},
     "output_type": "display_data"
    },
    {
     "data": {
      "image/png": "[encoded data removed]",
      "text/plain": [
       "<Figure size 640x480 with 1 Axes>"
      ]
     },
     "metadata": {},
     "output_type": "display_data"
    },
    {
     "data": {
      "text/plain": [
       "<Figure size 640x480 with 0 Axes>"
      ]
     },
     "metadata": {},
     "output_type": "display_data"
    }
   ],
   "source": [
    "acc = history.history['accuracy']\n",
    "val_acc = history.history['val_accuracy']\n",
    "loss = history.history['loss']\n",
    "val_loss = history.history['val_loss']\n",
    "\n",
    "epochs = range(len(acc))\n",
    "\n",
    "plt.plot(epochs, acc, 'r', label='Training accuracy')\n",
    "plt.plot(epochs, val_acc, 'b', label='Validation accuracy')\n",
    "plt.title('Training and validation accuracy')\n",
    "plt.legend(loc=0)\n",
    "plt.figure()\n",
    "\n",
    "plt.show()\n",
    "\n",
    "plt.plot(epochs, loss, 'r', label='Training loss')\n",
    "plt.plot(epochs, val_loss, 'b', label='Validation loss')\n",
    "plt.title('Training and validation loss')\n",
    "plt.legend(loc=0)\n",
    "plt.figure()\n",
    "\n",
    "plt.show()"
   ]
  },
  {
   "cell_type": "code",
   "execution_count": 23,
   "metadata": {},
   "outputs": [],
   "source": [
    "from tensorflow.keras.models import load_model"
   ]
  },
  {
   "cell_type": "code",
   "execution_count": 24,
   "metadata": {},
   "outputs": [],
   "source": [
    "model = load_model(os.path.join(model_dir, 'Model.hdf5'))"
   ]
  },
  {
   "cell_type": "code",
   "execution_count": 22,
   "metadata": {},
   "outputs": [
    {
     "name": "stdout",
     "output_type": "stream",
     "text": [
      "Found 893 images belonging to 4 classes.\n"
     ]
    }
   ],
   "source": [
    "test_datagen = ImageDataGenerator()\n",
    "\n",
    "test_generator = test_datagen.flow_from_directory(\n",
    "        test_dir,\n",
    "        target_size=(H, W),\n",
    "        batch_size=64,\n",
    "        class_mode='categorical',\n",
    "        shuffle=False,\n",
    "        )"
   ]
  },
  {
   "cell_type": "code",
   "execution_count": 25,
   "metadata": {},
   "outputs": [
    {
     "name": "stdout",
     "output_type": "stream",
     "text": [
      "14/14 [==============================] - 15s 996ms/step\n"
     ]
    }
   ],
   "source": [
    "pred = model.predict(test_generator)"
   ]
  },
  {
   "cell_type": "code",
   "execution_count": 26,
   "metadata": {},
   "outputs": [],
   "source": [
    "y_pred = np.argmax(pred, axis=1)"
   ]
  },
  {
   "cell_type": "code",
   "execution_count": 27,
   "metadata": {},
   "outputs": [],
   "source": [
    "y_test = []\n",
    "for i in test_generator.index_array:\n",
    "  y_test.append(test_generator.labels[i])\n",
    "y_test = np.array(y_test)"
   ]
  },
  {
   "cell_type": "code",
   "execution_count": 31,
   "metadata": {},
   "outputs": [
    {
     "name": "stdout",
     "output_type": "stream",
     "text": [
      "              precision    recall  f1-score   support\n",
      "\n",
      "           0     1.0000    1.0000    1.0000       239\n",
      "           1     1.0000    1.0000    1.0000       217\n",
      "           2     1.0000    1.0000    1.0000       240\n",
      "           3     1.0000    1.0000    1.0000       197\n",
      "\n",
      "    accuracy                         1.0000       893\n",
      "   macro avg     1.0000    1.0000    1.0000       893\n",
      "weighted avg     1.0000    1.0000    1.0000       893\n",
      "\n"
     ]
    }
   ],
   "source": [
    "print(classification_report(y_test, y_pred, digits=4))"
   ]
  }
 ],
 "metadata": {
  "kernelspec": {
   "display_name": "Python 3",
   "language": "python",
   "name": "python3"
  },
  "language_info": {
   "codemirror_mode": {
    "name": "ipython",
    "version": 3
   },
   "file_extension": ".py",
   "mimetype": "text/x-python",
   "name": "python",
   "nbconvert_exporter": "python",
   "pygments_lexer": "ipython3",
   "version": "3.10.11"
  }
 },
 "nbformat": 4,
 "nbformat_minor": 2
}
